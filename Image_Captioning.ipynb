{
 "cells": [
  {
   "cell_type": "markdown",
   "metadata": {
    "colab_type": "text",
    "id": "view-in-github"
   },
   "source": [
    "<a href=\"https://colab.research.google.com/github/rammyram/image_captioning/blob/master/Image_Captioning.ipynb\" target=\"_parent\"><img src=\"https://colab.research.google.com/assets/colab-badge.svg\" alt=\"Open In Colab\"/></a>"
   ]
  },
  {
   "cell_type": "code",
   "execution_count": 1,
   "metadata": {
    "colab": {
     "base_uri": "https://localhost:8080/",
     "height": 122
    },
    "colab_type": "code",
    "id": "L0mg9Oqku4FY",
    "outputId": "5ddb8a85-5514-456c-9b5e-cce85de5fa78"
   },
   "outputs": [
    {
     "name": "stdout",
     "output_type": "stream",
     "text": [
      "hello\n"
     ]
    }
   ],
   "source": [
    "# from google.colab import drive \n",
    "# drive.mount('/content/drive')\n",
    "print('hello')"
   ]
  },
  {
   "cell_type": "markdown",
   "metadata": {
    "colab_type": "text",
    "id": "MEHyryqivS6i"
   },
   "source": [
    "## Download the required data : Annotations,Captions,Images"
   ]
  },
  {
   "cell_type": "code",
   "execution_count": 2,
   "metadata": {
    "colab": {},
    "colab_type": "code",
    "id": "jvml55V7vIBl"
   },
   "outputs": [],
   "source": [
    "import os \n",
    "import sys\n",
    "from pycocotools.coco import COCO\n",
    "import urllib\n",
    "import zipfile "
   ]
  },
  {
   "cell_type": "code",
   "execution_count": 3,
   "metadata": {
    "colab": {
     "base_uri": "https://localhost:8080/",
     "height": 102
    },
    "colab_type": "code",
    "id": "jY2yAgDovgLd",
    "outputId": "f169ad0a-cde6-42de-8682-621c41b3732f"
   },
   "outputs": [
    {
     "name": "stdout",
     "output_type": "stream",
     "text": [
      "fatal: destination path 'cocoapi' already exists and is not an empty directory.\r\n"
     ]
    }
   ],
   "source": [
    "homedir = '/home/baur_se/'\n",
    "cocoapi_loc = homedir + 'digecat/rammyram_image_captioning/'\n",
    "cocoapi_dir = cocoapi_loc + 'cocoapi/'\n",
    "os.makedirs(cocoapi_loc, exist_ok=True)\n",
    "os.chdir(cocoapi_loc)\n",
    "!git clone 'https://github.com/cocodataset/cocoapi.git'"
   ]
  },
  {
   "cell_type": "markdown",
   "metadata": {
    "colab_type": "text",
    "id": "I3_btMoRw2Vy"
   },
   "source": [
    "Download the Annotations and Captions :"
   ]
  },
  {
   "cell_type": "code",
   "execution_count": 4,
   "metadata": {
    "colab": {
     "base_uri": "https://localhost:8080/",
     "height": 34
    },
    "colab_type": "code",
    "id": "VA6JaTnzvrhG",
    "outputId": "33b1f3ee-c57d-44e7-dea7-699a90f1b3fe"
   },
   "outputs": [
    {
     "data": {
      "text/plain": [
       "('image_info_test2014.zip', <http.client.HTTPMessage at 0x7fe03db29670>)"
      ]
     },
     "execution_count": 4,
     "metadata": {},
     "output_type": "execute_result"
    }
   ],
   "source": [
    "os.chdir(cocoapi_dir)\n",
    "\n",
    "# Download the annotation : \n",
    "annotations_trainval2014 = 'http://images.cocodataset.org/annotations/annotations_trainval2014.zip'\n",
    "image_info_test2014 = 'http://images.cocodataset.org/annotations/image_info_test2014.zip'\n",
    "\n",
    "urllib.request.urlretrieve(annotations_trainval2014 , filename = 'annotations_trainval2014.zip' )\n",
    "urllib.request.urlretrieve(image_info_test2014 , filename= 'image_info_test2014.zip' )"
   ]
  },
  {
   "cell_type": "markdown",
   "metadata": {
    "colab_type": "text",
    "id": "JLfQ0PV-yfJ9"
   },
   "source": [
    "Extract Annotations from ZIP file"
   ]
  },
  {
   "cell_type": "code",
   "execution_count": 5,
   "metadata": {
    "colab": {
     "base_uri": "https://localhost:8080/",
     "height": 51
    },
    "colab_type": "code",
    "id": "F8FJOO2mx2ft",
    "outputId": "b2988b2a-bf3b-40b1-e140-55d51201f920"
   },
   "outputs": [
    {
     "name": "stdout",
     "output_type": "stream",
     "text": [
      "zip removed\n",
      "zip removed\n"
     ]
    }
   ],
   "source": [
    "with zipfile.ZipFile('annotations_trainval2014.zip' , 'r') as zip_ref:\n",
    "  zip_ref.extractall(cocoapi_dir)  \n",
    "\n",
    "try:\n",
    "  os.remove( 'annotations_trainval2014.zip' )\n",
    "  print('zip removed')\n",
    "except:\n",
    "  None\n",
    "\n",
    "with zipfile.ZipFile('image_info_test2014.zip' , 'r') as zip_ref:\n",
    "  zip_ref.extractall(cocoapi_dir)  \n",
    "\n",
    "try:\n",
    "  os.remove( 'image_info_test2014.zip' )\n",
    "  print('zip removed')\n",
    "except:\n",
    "  None"
   ]
  },
  {
   "cell_type": "markdown",
   "metadata": {
    "colab_type": "text",
    "id": "kyKmXQkuz_zR"
   },
   "source": [
    "Initialize and verify the loaded data"
   ]
  },
  {
   "cell_type": "code",
   "execution_count": 6,
   "metadata": {
    "colab": {
     "base_uri": "https://localhost:8080/",
     "height": 170
    },
    "colab_type": "code",
    "id": "Lp6iuhP-yyI7",
    "outputId": "10a621f4-6de1-48b1-8d8a-79de1fdc70a1"
   },
   "outputs": [
    {
     "name": "stdout",
     "output_type": "stream",
     "text": [
      "instances_val2014.json\n",
      "loading annotations into memory...\n",
      "Done (t=2.75s)\n",
      "creating index...\n",
      "index created!\n",
      "loading annotations into memory...\n",
      "Done (t=0.17s)\n",
      "creating index...\n",
      "index created!\n"
     ]
    }
   ],
   "source": [
    "os.chdir(cocoapi_dir + 'annotations')\n",
    "# initialize COCO API for instance annotations\n",
    "dataType = 'val2014'\n",
    "instances_annFile = 'instances_{}.json'.format(dataType)\n",
    "print(instances_annFile)\n",
    "coco = COCO(instances_annFile)\n",
    "\n",
    "# initialize COCO API for caption annotations\n",
    "captions_annFile = 'captions_{}.json'.format(dataType)\n",
    "coco_caps = COCO(captions_annFile)\n",
    "\n",
    "# get image ids \n",
    "ids = list(coco.anns.keys())"
   ]
  },
  {
   "cell_type": "markdown",
   "metadata": {
    "colab_type": "text",
    "id": "UOPxvivc0mZQ"
   },
   "source": [
    "plot a sample Image"
   ]
  },
  {
   "cell_type": "code",
   "execution_count": 7,
   "metadata": {
    "colab": {},
    "colab_type": "code",
    "id": "bS6_GylyzosH"
   },
   "outputs": [],
   "source": [
    "import matplotlib.pyplot as plt \n",
    "import skimage.io as io  # scikit-image\n",
    "import numpy as np \n",
    "%matplotlib inline "
   ]
  },
  {
   "cell_type": "code",
   "execution_count": 8,
   "metadata": {
    "colab": {
     "base_uri": "https://localhost:8080/",
     "height": 405
    },
    "colab_type": "code",
    "id": "PXbkWYbX00sR",
    "outputId": "1453012c-a23a-488a-ee4b-c7122e9fb702",
    "scrolled": true
   },
   "outputs": [
    {
     "name": "stdout",
     "output_type": "stream",
     "text": [
      "http://images.cocodataset.org/val2014/COCO_val2014_000000277674.jpg\n",
      "Number of annotations i.e captions for the image:  [14970, 17493, 17856, 20517, 24030]\n",
      "\n",
      "Six candles are sticking out of a blue cake.\n",
      "A large blue birthday cake with stars is on a blue tablecloth.\n",
      "A portion of the cake has been cut and served on a plate.\n",
      "A sheet cake being sliced and served to people.\n",
      "A blue cake with gold stars being sliced and served.\n"
     ]
    },
    {
     "data": {
      "image/png": "[encoded data removed]",
      "text/plain": [
       "<Figure size 432x288 with 1 Axes>"
      ]
     },
     "metadata": {
      "needs_background": "light"
     },
     "output_type": "display_data"
    }
   ],
   "source": [
    "#Pick a random annotation id and display img of that annotation  :\n",
    "ann_id = np.random.choice( ids )\n",
    "img_id = coco.anns[ann_id]['image_id']\n",
    "img = coco.loadImgs( img_id )[0]\n",
    "url = img['coco_url']\n",
    "print(url)\n",
    "I = io.imread(url)\n",
    "plt.imshow(I)\n",
    "\n",
    "# Display captions for that annotation id :\n",
    "ann_ids = coco_caps.getAnnIds( img_id   )\n",
    "print('Number of annotations i.e captions for the image: ' , ann_ids)\n",
    "print()\n",
    "anns = coco_caps.loadAnns( ann_ids )\n",
    "coco_caps.showAnns(anns)"
   ]
  },
  {
   "cell_type": "markdown",
   "metadata": {
    "colab_type": "text",
    "id": "d1ZkrGRi3X-l"
   },
   "source": [
    "Download Train , Test , Val Images :"
   ]
  },
  {
   "cell_type": "code",
   "execution_count": 14,
   "metadata": {
    "colab": {
     "base_uri": "https://localhost:8080/",
     "height": 34
    },
    "colab_type": "code",
    "id": "iZhRb--F1Ric",
    "outputId": "fcdfc755-8e53-4350-a638-01c7e81cefa3"
   },
   "outputs": [
    {
     "data": {
      "text/plain": [
       "('test2014', <http.client.HTTPMessage at 0x7fdff6316100>)"
      ]
     },
     "execution_count": 14,
     "metadata": {},
     "output_type": "execute_result"
    }
   ],
   "source": [
    "# os.chdir(cocoapi_dir)\n",
    "\n",
    "# train2014 = 'http://images.cocodataset.org/zips/train2014.zip'\n",
    "# test2014 = 'http://images.cocodataset.org/zips/test2014.zip'\n",
    "# val2014 = 'http://images.cocodataset.org/zips/val2014.zip'\n",
    "\n",
    "# urllib.request.urlretrieve( train2014 , 'train2014' )\n",
    "# urllib.request.urlretrieve( test2014 , 'test2014' )\n",
    "# #urllib.request.urlretrieve( val2014 , 'val2014' )\n"
   ]
  },
  {
   "cell_type": "markdown",
   "metadata": {
    "colab_type": "text",
    "id": "A-lJ6fizZx23"
   },
   "source": [
    "unzip the download image zip files "
   ]
  },
  {
   "cell_type": "code",
   "execution_count": 15,
   "metadata": {
    "colab": {
     "base_uri": "https://localhost:8080/",
     "height": 34
    },
    "colab_type": "code",
    "id": "1QpNu1U8ZwvZ",
    "outputId": "f86f5b11-e60b-49f6-fbac-72db37734d59"
   },
   "outputs": [],
   "source": [
    "# os.chdir(cocoapi_dir)\n",
    "# with zipfile.ZipFile( 'train2014' , 'r' ) as zip_ref:\n",
    "#   zip_ref.extractall( 'images' )\n",
    "\n",
    "# # try:\n",
    "# #   os.remove( 'train2014' )\n",
    "# #   print('zip removed')\n",
    "# # except:\n",
    "# #   None\n",
    "\n",
    "\n",
    "# os.chdir(cocoapi_dir)\n",
    "# with zipfile.ZipFile( 'test2014' , 'r' ) as zip_ref:\n",
    "#   zip_ref.extractall( 'images' )\n",
    "\n",
    "# # try:\n",
    "# #   os.remove( 'test2014' )\n",
    "# #   print('zip removed')\n",
    "# # except:\n",
    "# #   None"
   ]
  },
  {
   "cell_type": "markdown",
   "metadata": {
    "colab_type": "text",
    "id": "E9fqDQO35KPG"
   },
   "source": [
    "## Step1 Explore the DataLoader"
   ]
  },
  {
   "cell_type": "markdown",
   "metadata": {
    "colab_type": "text",
    "id": "qshOumBc2ZHY"
   },
   "source": [
    "### Vocabulary.py"
   ]
  },
  {
   "cell_type": "code",
   "execution_count": 17,
   "metadata": {
    "colab": {},
    "colab_type": "code",
    "id": "i7eAPTW12RNE"
   },
   "outputs": [],
   "source": [
    "# vocabulary.py -------------------------------------------------------------\n",
    "import nltk\n",
    "import pickle\n",
    "import os.path\n",
    "from pycocotools.coco import COCO\n",
    "from collections import Counter\n",
    "\n",
    "class Vocabulary(object):\n",
    "\n",
    "    def __init__(self,\n",
    "        vocab_threshold,\n",
    "        vocab_file='./vocab.pkl',\n",
    "        start_word=\"<start>\",\n",
    "        end_word=\"<end>\",\n",
    "        unk_word=\"<unk>\",\n",
    "        annotations_file='../cocoapi/annotations/captions_train2014.json',\n",
    "        vocab_from_file=False):\n",
    "        \"\"\"Initialize the vocabulary.\n",
    "        Args:\n",
    "          vocab_threshold: Minimum word count threshold.\n",
    "          vocab_file: File containing the vocabulary.\n",
    "          start_word: Special word denoting sentence start.\n",
    "          end_word: Special word denoting sentence end.\n",
    "          unk_word: Special word denoting unknown words.\n",
    "          annotations_file: Path for train annotation file.\n",
    "          vocab_from_file: If False, create vocab from scratch & override any existing vocab_file\n",
    "                           If True, load vocab from from existing vocab_file, if it exists\n",
    "        \"\"\"\n",
    "        self.vocab_threshold = vocab_threshold\n",
    "        self.vocab_file = vocab_file\n",
    "        self.start_word = start_word\n",
    "        self.end_word = end_word\n",
    "        self.unk_word = unk_word\n",
    "        self.annotations_file = annotations_file\n",
    "        self.vocab_from_file = vocab_from_file\n",
    "        self.get_vocab()\n",
    "\n",
    "    def get_vocab(self):\n",
    "        \"\"\"Load the vocabulary from file OR build the vocabulary from scratch.\"\"\"\n",
    "        if os.path.exists(self.vocab_file) & self.vocab_from_file:\n",
    "            with open(self.vocab_file, 'rb') as f:\n",
    "                vocab = pickle.load(f)\n",
    "                self.word2idx = vocab.word2idx\n",
    "                self.idx2word = vocab.idx2word\n",
    "            print('Vocabulary successfully loaded from vocab.pkl file!')\n",
    "        else:\n",
    "            self.build_vocab()\n",
    "            with open(self.vocab_file, 'wb') as f:\n",
    "                pickle.dump(self, f)\n",
    "        \n",
    "    def build_vocab(self):\n",
    "        \"\"\"Populate the dictionaries for converting tokens to integers (and vice-versa).\"\"\"\n",
    "        self.init_vocab()\n",
    "        self.add_word(self.start_word)\n",
    "        self.add_word(self.end_word)\n",
    "        self.add_word(self.unk_word)\n",
    "        self.add_captions()\n",
    "\n",
    "    def init_vocab(self):\n",
    "        \"\"\"Initialize the dictionaries for converting tokens to integers (and vice-versa).\"\"\"\n",
    "        self.word2idx = {}\n",
    "        self.idx2word = {}\n",
    "        self.idx = 0\n",
    "\n",
    "    def add_word(self, word):\n",
    "        \"\"\"Add a token to the vocabulary.\"\"\"\n",
    "        if not word in self.word2idx:\n",
    "            self.word2idx[word] = self.idx\n",
    "            self.idx2word[self.idx] = word\n",
    "            self.idx += 1\n",
    "\n",
    "    def add_captions(self):\n",
    "        \"\"\"Loop over training captions and add all tokens to the vocabulary that meet or exceed the threshold.\"\"\"\n",
    "        coco = COCO(self.annotations_file)\n",
    "        counter = Counter()\n",
    "        ids = coco.anns.keys()\n",
    "        for i, id in enumerate(ids):\n",
    "            caption = str(coco.anns[id]['caption'])\n",
    "            tokens = nltk.tokenize.word_tokenize(caption.lower())\n",
    "            counter.update(tokens)\n",
    "\n",
    "            if i % 100000 == 0:\n",
    "                print(\"[%d/%d] Tokenizing captions...\" % (i, len(ids)))\n",
    "\n",
    "        words = [word for word, cnt in counter.items() if cnt >= self.vocab_threshold]\n",
    "\n",
    "        for i, word in enumerate(words):\n",
    "            self.add_word(word)\n",
    "\n",
    "    def __call__(self, word):\n",
    "        if not word in self.word2idx:\n",
    "            return self.word2idx[self.unk_word]\n",
    "        return self.word2idx[word]\n",
    "\n",
    "    def __len__(self):\n",
    "        return len(self.word2idx)"
   ]
  },
  {
   "cell_type": "markdown",
   "metadata": {
    "colab_type": "text",
    "id": "zFib3Yuq2D4i"
   },
   "source": [
    "### data_loader.py"
   ]
  },
  {
   "cell_type": "code",
   "execution_count": 19,
   "metadata": {
    "colab": {},
    "colab_type": "code",
    "id": "UiKijrXf72rw"
   },
   "outputs": [],
   "source": [
    "# Data Loader ---------------------------------------------------------------------------------------------\n",
    "\n",
    "import nltk\n",
    "import os\n",
    "import torch\n",
    "import torch.utils.data as data\n",
    "from PIL import Image\n",
    "from pycocotools.coco import COCO\n",
    "import numpy as np\n",
    "from tqdm import tqdm\n",
    "import random\n",
    "import json\n",
    "\n",
    "def get_loader(transform,\n",
    "               mode='train',\n",
    "               batch_size=1,\n",
    "               vocab_threshold=None,\n",
    "               vocab_file='./vocab.pkl',\n",
    "               start_word=\"<start>\",\n",
    "               end_word=\"<end>\",\n",
    "               unk_word=\"<unk>\",\n",
    "               vocab_from_file=True,\n",
    "               num_workers=0,\n",
    "               cocoapi_loc=cocoapi_loc):\n",
    "    \"\"\"Returns the data loader.\n",
    "    Args:\n",
    "      transform: Image transform.\n",
    "      mode: One of 'train' or 'test'.\n",
    "      batch_size: Batch size (if in testing mode, must have batch_size=1).\n",
    "      vocab_threshold: Minimum word count threshold.\n",
    "      vocab_file: File containing the vocabulary. \n",
    "      start_word: Special word denoting sentence start.\n",
    "      end_word: Special word denoting sentence end.\n",
    "      unk_word: Special word denoting unknown words.\n",
    "      vocab_from_file: If False, create vocab from scratch & override any existing vocab_file.\n",
    "                       If True, load vocab from from existing vocab_file, if it exists.\n",
    "      num_workers: Number of subprocesses to use for data loading \n",
    "      cocoapi_loc: The location of the folder containing the COCO API: https://github.com/cocodataset/cocoapi\n",
    "    \"\"\"\n",
    "    \n",
    "    assert mode in ['train', 'test'], \"mode must be one of 'train' or 'test'.\"\n",
    "    if vocab_from_file==False: assert mode=='train', \"To generate vocab from captions file, must be in training mode (mode='train').\"\n",
    "\n",
    "    # Based on mode (train, val, test), obtain img_folder and annotations_file.\n",
    "    if mode == 'train':\n",
    "        if vocab_from_file==True: assert os.path.exists(vocab_file), \"vocab_file does not exist.  Change vocab_from_file to False to create vocab_file.\"\n",
    "        img_folder = os.path.join(cocoapi_loc, 'cocoapi/images/train2014/')\n",
    "        annotations_file = os.path.join(cocoapi_loc, 'cocoapi/annotations/captions_train2014.json')\n",
    "    if mode == 'test':\n",
    "        assert batch_size==1, \"Please change batch_size to 1 if testing your model.\"\n",
    "        assert os.path.exists(vocab_file), \"Must first generate vocab.pkl from training data.\"\n",
    "        assert vocab_from_file==True, \"Change vocab_from_file to True.\"\n",
    "        img_folder = os.path.join(cocoapi_loc, 'cocoapi/images/test2014/')\n",
    "        annotations_file = os.path.join(cocoapi_loc, 'cocoapi/annotations/image_info_test2014.json')\n",
    "\n",
    "    # COCO caption dataset.\n",
    "    dataset = CoCoDataset(transform=transform,\n",
    "                          mode=mode,\n",
    "                          batch_size=batch_size,\n",
    "                          vocab_threshold=vocab_threshold,\n",
    "                          vocab_file=vocab_file,\n",
    "                          start_word=start_word,\n",
    "                          end_word=end_word,\n",
    "                          unk_word=unk_word,\n",
    "                          annotations_file=annotations_file,\n",
    "                          vocab_from_file=vocab_from_file,\n",
    "                          img_folder=img_folder)\n",
    "\n",
    "    if mode == 'train':\n",
    "        # Randomly sample a caption length, and sample indices with that length.\n",
    "        indices = dataset.get_train_indices()\n",
    "        # Create and assign a batch sampler to retrieve a batch with the sampled indices.\n",
    "        initial_sampler = data.sampler.SubsetRandomSampler(indices=indices)\n",
    "        # data loader for COCO dataset.\n",
    "        data_loader = data.DataLoader(dataset=dataset, \n",
    "                                      num_workers=num_workers,\n",
    "                                      batch_sampler=data.sampler.BatchSampler(sampler=initial_sampler,\n",
    "                                                                              batch_size=dataset.batch_size,\n",
    "                                                                              drop_last=False))\n",
    "    else:\n",
    "        data_loader = data.DataLoader(dataset=dataset,\n",
    "                                      batch_size=dataset.batch_size,\n",
    "                                      shuffle=True,\n",
    "                                      num_workers=num_workers)\n",
    "\n",
    "    return data_loader\n",
    "\n",
    "class CoCoDataset(data.Dataset):\n",
    "    \n",
    "    def __init__(self, transform, mode, batch_size, vocab_threshold, vocab_file, start_word, \n",
    "        end_word, unk_word, annotations_file, vocab_from_file, img_folder):\n",
    "        self.transform = transform\n",
    "        self.mode = mode\n",
    "        self.batch_size = batch_size\n",
    "        self.vocab = Vocabulary(vocab_threshold, vocab_file, start_word,\n",
    "            end_word, unk_word, annotations_file, vocab_from_file)\n",
    "        self.img_folder = img_folder\n",
    "        if self.mode == 'train':            \n",
    "            self.coco = COCO(annotations_file)\n",
    "            self.ids = list(self.coco.anns.keys())\n",
    "            print('Obtaining caption lengths...')\n",
    "            all_tokens = [nltk.tokenize.word_tokenize(str(self.coco.anns[self.ids[index]]['caption']).lower()) for index in tqdm(np.arange(len(self.ids)))]\n",
    "            self.caption_lengths = [len(token) for token in all_tokens]\n",
    "        else:\n",
    "            test_info = json.loads(open(annotations_file).read())\n",
    "            self.paths = [item['file_name'] for item in test_info['images']]\n",
    "        \n",
    "    def __getitem__(self, index):\n",
    "        # obtain image and caption if in training mode\n",
    "        if self.mode == 'train':\n",
    "            ann_id = self.ids[index]\n",
    "            caption = self.coco.anns[ann_id]['caption']\n",
    "            img_id = self.coco.anns[ann_id]['image_id']\n",
    "            path = self.coco.loadImgs(img_id)[0]['file_name']\n",
    "\n",
    "            # Convert image to tensor and pre-process using transform\n",
    "            image = Image.open(os.path.join(self.img_folder, path)).convert('RGB')\n",
    "            image = self.transform(image)\n",
    "\n",
    "            # Convert caption to tensor of word ids.\n",
    "            tokens = nltk.tokenize.word_tokenize(str(caption).lower())\n",
    "            caption = []\n",
    "            caption.append(self.vocab(self.vocab.start_word))\n",
    "            caption.extend([self.vocab(token) for token in tokens])\n",
    "            caption.append(self.vocab(self.vocab.end_word))\n",
    "            caption = torch.Tensor(caption).long()\n",
    "\n",
    "            # return pre-processed image and caption tensors\n",
    "            return image, caption\n",
    "\n",
    "        # obtain image if in test mode\n",
    "        else:\n",
    "            path = self.paths[index]\n",
    "\n",
    "            # Convert image to tensor and pre-process using transform\n",
    "            PIL_image = Image.open(os.path.join(self.img_folder, path)).convert('RGB')\n",
    "            orig_image = np.array(PIL_image)\n",
    "            image = self.transform(PIL_image)\n",
    "\n",
    "            # return original image and pre-processed image tensor\n",
    "            return orig_image, image\n",
    "\n",
    "    def get_train_indices(self):\n",
    "        sel_length = np.random.choice(self.caption_lengths)\n",
    "        all_indices = np.where([self.caption_lengths[i] == sel_length for i in np.arange(len(self.caption_lengths))])[0]\n",
    "        indices = list(np.random.choice(all_indices, size=self.batch_size))\n",
    "        return indices\n",
    "\n",
    "    def __len__(self):\n",
    "        if self.mode == 'train':\n",
    "            return len(self.ids)\n",
    "        else:\n",
    "            return len(self.paths)"
   ]
  },
  {
   "cell_type": "markdown",
   "metadata": {
    "colab_type": "text",
    "id": "Z6yai64F2y6T"
   },
   "source": [
    "### Dataloader creation"
   ]
  },
  {
   "cell_type": "code",
   "execution_count": 20,
   "metadata": {
    "colab": {
     "base_uri": "https://localhost:8080/",
     "height": 340
    },
    "colab_type": "code",
    "id": "A8bGuKAz16XV",
    "outputId": "38c8a42f-eca9-40c8-fe52-59e77ec6a5bb"
   },
   "outputs": [
    {
     "name": "stdout",
     "output_type": "stream",
     "text": [
      "Requirement already satisfied: nltk in /home/baur_se/miniforge3/envs/c_general39/lib/python3.9/site-packages (3.7)\n",
      "Requirement already satisfied: tqdm in /home/baur_se/miniforge3/envs/c_general39/lib/python3.9/site-packages (from nltk) (4.64.0)\n",
      "Requirement already satisfied: click in /home/baur_se/miniforge3/envs/c_general39/lib/python3.9/site-packages (from nltk) (8.1.3)\n",
      "Requirement already satisfied: regex>=2021.8.3 in /home/baur_se/miniforge3/envs/c_general39/lib/python3.9/site-packages (from nltk) (2022.10.31)\n",
      "Requirement already satisfied: joblib in /home/baur_se/miniforge3/envs/c_general39/lib/python3.9/site-packages (from nltk) (1.1.0)\n"
     ]
    },
    {
     "name": "stderr",
     "output_type": "stream",
     "text": [
      "[nltk_data] Downloading package punkt to /home/baur_se/nltk_data...\n",
      "[nltk_data]   Unzipping tokenizers/punkt.zip.\n",
      "/home/baur_se/miniforge3/envs/c_general39/lib/python3.9/site-packages/torchvision/io/image.py:13: UserWarning: Failed to load image Python extension: libtorch_cuda_cu.so: cannot open shared object file: No such file or directory\n",
      "  warn(f\"Failed to load image Python extension: {e}\")\n"
     ]
    },
    {
     "name": "stdout",
     "output_type": "stream",
     "text": [
      "loading annotations into memory...\n",
      "Done (t=0.34s)\n",
      "creating index...\n",
      "index created!\n",
      "[0/414113] Tokenizing captions...\n",
      "[100000/414113] Tokenizing captions...\n",
      "[200000/414113] Tokenizing captions...\n",
      "[300000/414113] Tokenizing captions...\n",
      "[400000/414113] Tokenizing captions...\n",
      "loading annotations into memory...\n",
      "Done (t=0.36s)\n",
      "creating index...\n",
      "index created!\n",
      "Obtaining caption lengths...\n"
     ]
    },
    {
     "name": "stderr",
     "output_type": "stream",
     "text": [
      "100%|████████████████████████████████████████████████████████████████████████| 414113/414113 [00:25<00:00, 16111.14it/s]\n"
     ]
    }
   ],
   "source": [
    "import sys\n",
    "from pycocotools.coco import COCO\n",
    "!pip install nltk\n",
    "import nltk\n",
    "nltk.download('punkt')\n",
    "from torchvision import transforms\n",
    "\n",
    "\n",
    "# Define a transform to pre-process the training images.\n",
    "transform_train = transforms.Compose([ \n",
    "    transforms.Resize(256),                          # smaller edge of image resized to 256\n",
    "    transforms.RandomCrop(224),                      # get 224x224 crop from random location\n",
    "    transforms.RandomHorizontalFlip(),               # horizontally flip image with probability=0.5\n",
    "    transforms.ToTensor(),                           # convert the PIL Image to a tensor\n",
    "    transforms.Normalize((0.485, 0.456, 0.406),      # normalize image for pre-trained model\n",
    "                         (0.229, 0.224, 0.225))])\n",
    "\n",
    "# Set the minimum word count threshold.\n",
    "vocab_threshold = 8\n",
    "\n",
    "# Specify the batch size.\n",
    "batch_size = 200\n",
    "\n",
    "# Obtain the data loader.\n",
    "data_loader_train = get_loader(transform=transform_train,\n",
    "                         mode='train',\n",
    "                         batch_size=batch_size,\n",
    "                         vocab_threshold=vocab_threshold,\n",
    "                         vocab_from_file=False,\n",
    "                         cocoapi_loc = cocoapi_loc)"
   ]
  },
  {
   "cell_type": "code",
   "execution_count": 21,
   "metadata": {
    "colab": {},
    "colab_type": "code",
    "id": "kn-1LmQKRI5G"
   },
   "outputs": [],
   "source": [
    "import torch \n",
    "import numpy as np \n",
    "import torch.utils.data as data"
   ]
  },
  {
   "cell_type": "code",
   "execution_count": 22,
   "metadata": {
    "colab": {
     "base_uri": "https://localhost:8080/",
     "height": 173
    },
    "colab_type": "code",
    "id": "j1dH_gRXKxGE",
    "outputId": "1844107e-a6e0-465e-85c0-f63b05d10833"
   },
   "outputs": [
    {
     "name": "stdout",
     "output_type": "stream",
     "text": [
      "Find Below the Sample tokens and the idx values of those tokens in word2idx \n",
      "\n",
      "['<start>', 'a', 'person', 'doing', 'a', 'trick', 'xxxx', 'on', 'a', 'rail', 'while', 'riding', 'a', 'skateboard', '.', '<end>']\n",
      "tensor([  0,   3,  97, 744,   3, 393,   2,  38,   3, 993, 205, 137,   3, 743,\n",
      "         18,   1])\n",
      "Find index values for words below \n",
      "\n",
      "Start idx 0 , End idx 1 , unknown idx 2\n"
     ]
    }
   ],
   "source": [
    "# Exploring the dataloader now :\n",
    "\n",
    "\n",
    "sample_caption = 'A person doing a trick xxxx on a rail while riding a skateboard.'\n",
    "sample_tokens = nltk.tokenize.word_tokenize( sample_caption.lower() )\n",
    "\n",
    "sample_caption = []\n",
    "start_word  = data_loader_train.dataset.vocab.start_word\n",
    "end_word = data_loader_train.dataset.vocab.end_word\n",
    "sample_tokens.insert(0 , start_word)\n",
    "sample_tokens.append(end_word)\n",
    "sample_caption.extend( [ data_loader_train.dataset.vocab(token) for token in sample_tokens ] )\n",
    "\n",
    "\n",
    "sample_caption = torch.Tensor( sample_caption ).long()\n",
    "print('Find Below the Sample tokens and the idx values of those tokens in word2idx' , '\\n')\n",
    "print(sample_tokens) \n",
    "print(sample_caption )\n",
    "\n",
    "print('Find index values for words below \\n')\n",
    "print('Start idx {} , End idx {} , unknown idx {}'.format( 0,1,2 ))"
   ]
  },
  {
   "cell_type": "code",
   "execution_count": 23,
   "metadata": {
    "colab": {
     "base_uri": "https://localhost:8080/",
     "height": 71
    },
    "colab_type": "code",
    "id": "g8OaFH9VMCmB",
    "outputId": "82b4c6c6-1865-4ba9-8fc2-ace28ba09bcc"
   },
   "outputs": [
    {
     "name": "stdout",
     "output_type": "stream",
     "text": [
      "First few vocab {'<start>': 0, '<end>': 1, '<unk>': 2, 'a': 3, 'very': 4, 'clean': 5, 'and': 6, 'well': 7, 'decorated': 8, 'empty': 9}\n",
      "Total number of tokens in vocabulary: 7072\n"
     ]
    }
   ],
   "source": [
    "# Lets check word2idx in vocb \n",
    "print('First few vocab' , dict(list(data_loader_train.dataset.vocab.word2idx.items())[:10]))\n",
    "# Print the total number of keys in the word2idx dictionary.\n",
    "print('Total number of tokens in vocabulary:', len(data_loader_train.dataset.vocab))"
   ]
  },
  {
   "cell_type": "markdown",
   "metadata": {
    "colab_type": "text",
    "id": "uyxU5wWTPwtw"
   },
   "source": [
    "<a id='step2'></a>\n",
    "## Step 2: Use the Data Loader to Obtain Batches\n",
    "\n",
    "The captions in the dataset vary greatly in length.  You can see this by examining `data_loader.dataset.caption_lengths`, a Python list with one entry for each training caption (where the value stores the length of the corresponding caption).  \n",
    "\n",
    "In the code cell below, we use this list to print the total number of captions in the training data with each length.  As you will see below, the majority of captions have length 10.  Likewise, very short and very long captions are quite rare.  "
   ]
  },
  {
   "cell_type": "code",
   "execution_count": 24,
   "metadata": {
    "colab": {
     "base_uri": "https://localhost:8080/",
     "height": 170
    },
    "colab_type": "code",
    "id": "T6HUbDqQPMyw",
    "outputId": "ada05cd3-25de-4397-f171-98bd56b456a6"
   },
   "outputs": [
    {
     "name": "stdout",
     "output_type": "stream",
     "text": [
      "value 10  count 86302\n",
      "value 11  count 79971\n",
      "value  9  count 71920\n",
      "value 12  count 57653\n",
      "value 13  count 37668\n",
      "value 14  count 22342\n",
      "value  8  count 20742\n",
      "value 15  count 12839\n",
      "value 16  count  7736\n"
     ]
    }
   ],
   "source": [
    "from collections import Counter\n",
    "\n",
    "counter = Counter(data_loader_train.dataset.caption_lengths)\n",
    "lengths = sorted( counter.items() , key = lambda pair : pair[1] , reverse=True )\n",
    "for val,count in lengths:\n",
    "  print( 'value %2d  count %5d' %(val,count) )\n",
    "  if count < 10000: \n",
    "    break"
   ]
  },
  {
   "cell_type": "markdown",
   "metadata": {
    "colab_type": "text",
    "id": "NJcMCb4ZXfSV"
   },
   "source": [
    "To generate batches of training data, we begin by first sampling a caption length (where the probability that any length is drawn is proportional to the number of captions with that length in the dataset).  Then, we retrieve a batch of size `batch_size` of image-caption pairs, where all captions have the sampled length.  This approach for assembling batches matches the procedure in [this paper](https://arxiv.org/pdf/1502.03044.pdf) and has been shown to be computationally efficient without degrading performance.\n",
    "\n",
    "Run the code cell below to generate a batch.  The `get_train_indices` method in the `CoCoDataset` class first samples a caption length, and then samples `batch_size` indices corresponding to training data points with captions of that length.  These indices are stored below in `indices`.\n",
    "\n",
    "These indices are supplied to the data loader, which then is used to retrieve the corresponding data points.  The pre-processed images and captions in the batch are stored in `images` and `captions`."
   ]
  },
  {
   "cell_type": "code",
   "execution_count": 25,
   "metadata": {
    "colab": {
     "base_uri": "https://localhost:8080/",
     "height": 51
    },
    "colab_type": "code",
    "id": "K4MwT-xhRBY6",
    "outputId": "caf6727e-575d-4505-a9d2-5fd112de0d34"
   },
   "outputs": [
    {
     "name": "stdout",
     "output_type": "stream",
     "text": [
      "Sample Indices: [236539, 358569, 179475, 187170, 88223, 57408, 231071, 15891, 228712, 252837, 93116, 169936, 373822, 132367, 100041, 69298, 297770, 345411, 291881, 209058, 313058, 179777, 257409, 305277, 340326, 23119, 233089, 321953, 307196, 216076, 76134, 323343, 116989, 64287, 117604, 383733, 335784, 358387, 263674, 317027, 19958, 137897, 279134, 404630, 91970, 264711, 38592, 326180, 149190, 239819, 68723, 232994, 240988, 205892, 116799, 277082, 385394, 95116, 242200, 282598, 369070, 18489, 220589, 252695, 132145, 98976, 234796, 41451, 203383, 80866, 300970, 157447, 213058, 405482, 128130, 136907, 131951, 104525, 323037, 366168, 330222, 244839, 249489, 219689, 117228, 105789, 297702, 331256, 177317, 73303, 196185, 172115, 222949, 106332, 271041, 342922, 35893, 144151, 217981, 315449, 13704, 382892, 276359, 207480, 17883, 177513, 142866, 257973, 81069, 411634, 308427, 77997, 16925, 105567, 279433, 98110, 236505, 61118, 75200, 388912, 177895, 133907, 50450, 347981, 217750, 164568, 167618, 51427, 196464, 6155, 229928, 382478, 13956, 132402, 296319, 136710, 145978, 278510, 373526, 408963, 152147, 183084, 82918, 210096, 366424, 223509, 408671, 39617, 15168, 273721, 339596, 209883, 271041, 215068, 410684, 413627, 165057, 277533, 263691, 403648, 168252, 95116, 385369, 157174, 76972, 183714, 163349, 335748, 163629, 90922, 380670, 405198, 292130, 367560, 113713, 239580, 291993, 91718, 287673, 97434, 182979, 32661, 95138, 15920, 113061, 252902, 354385, 269352, 277982, 267803, 125275, 66468, 5077, 161241, 321855, 350610, 276034, 238553, 163642, 314414]\n",
      "torch.Size([200, 3, 224, 224]) torch.Size([200, 16])\n"
     ]
    }
   ],
   "source": [
    "# Randomly sample a caption length, and sample indices with that length.\n",
    "indices = data_loader_train.dataset.get_train_indices()\n",
    "print('Sample Indices:' , indices )\n",
    "\n",
    "# Create and assign a batch sampler to retrieve a batch with the sampled indices.\n",
    "sampler = data.sampler.SubsetRandomSampler(  indices )\n",
    "data_loader_train.batch_sampler.sampler = sampler \n",
    "\n",
    "# obtain images, caption :\n",
    "images , captions = next(iter(data_loader_train))\n",
    "print(images.shape , captions.shape)"
   ]
  },
  {
   "cell_type": "markdown",
   "metadata": {
    "colab_type": "text",
    "id": "cym1ywj7eX6g"
   },
   "source": [
    "<a id='step3'></a>\n",
    "## Step 3: Experiment with the CNN Encoder\n",
    "\n",
    "\n",
    "The encoder uses the pre-trained ResNet-50 architecture (with the final fully-connected layer removed) to extract features from a batch of pre-processed images.  The output is then flattened to a vector, before being passed through a `Linear` layer to transform the feature vector to have the same size as the word embedding.\n",
    "\n"
   ]
  },
  {
   "cell_type": "code",
   "execution_count": 26,
   "metadata": {
    "colab": {},
    "colab_type": "code",
    "id": "mu6KyjYmfnlR"
   },
   "outputs": [],
   "source": [
    "import torch\n",
    "import torch.nn as nn\n",
    "import torchvision.models as models\n",
    "\n",
    "class EncoderCNN(nn.Module):\n",
    "    def __init__(self, embed_size):\n",
    "        super(EncoderCNN, self).__init__()\n",
    "        resnet = models.resnet50(pretrained=True)\n",
    "        for param in resnet.parameters():\n",
    "            param.requires_grad_(False)\n",
    "        \n",
    "        modules = list(resnet.children())[:-1]\n",
    "        self.resnet = nn.Sequential(*modules)\n",
    "        self.embed = nn.Linear(resnet.fc.in_features, embed_size)\n",
    "\n",
    "    def forward(self, images):\n",
    "        features = self.resnet(images)        \n",
    "        features = features.view(features.size(0), -1)        \n",
    "        features = self.embed(features)        \n",
    "        return features\n",
    "    "
   ]
  },
  {
   "cell_type": "code",
   "execution_count": 30,
   "metadata": {
    "colab": {},
    "colab_type": "code",
    "id": "Q_7WcFWWf4fR"
   },
   "outputs": [
    {
     "name": "stdout",
     "output_type": "stream",
     "text": [
      "<class 'torch.Tensor'> torch.Size([200, 256]) torch.Size([200, 3, 224, 224])\n"
     ]
    }
   ],
   "source": [
    "# specify dim of image embedding\n",
    "# device =  torch.device('cuda' if torch.cuda.is_available() else 'cpu')  # gpu is available, but not enough gpu mem on the laptop\n",
    "device =  torch.device('cpu')\n",
    "embed_size = 256 \n",
    "encoder = EncoderCNN( embed_size )\n",
    "encoder.to(device)\n",
    "images=  images.to(device) # images from step2 \n",
    "features = encoder(images)\n",
    "\n",
    "print(type(features) , features.shape , images.shape)\n",
    "assert( type(features) == torch.Tensor )  , 'Encoder output should be pytorch tensor'\n",
    "assert (features.shape[0] == batch_size) & (features.shape[1] == embed_size) , \"The shape of the encoder output is incorrect.\""
   ]
  },
  {
   "cell_type": "markdown",
   "metadata": {
    "colab_type": "text",
    "id": "GAWJt8yusTf3"
   },
   "source": [
    "<a id='step4'></a>\n",
    "## Step 4: Implement the RNN Decoder\n",
    "\n",
    "\n",
    "In the code cell below, `outputs` should be a PyTorch tensor with size `[batch_size, captions.shape[1], vocab_size]`.  Your output should be designed such that `outputs[i,j,k]` contains the model's predicted score, indicating how likely the `j`-th token in the `i`-th caption in the batch is the `k`-th token in the vocabulary.  In the next notebook of the sequence (**2_Training.ipynb**), we provide code to supply these scores to the [`torch.nn.CrossEntropyLoss`](http://pytorch.org/docs/master/nn.html#torch.nn.CrossEntropyLoss) optimizer in PyTorch."
   ]
  },
  {
   "cell_type": "code",
   "execution_count": 33,
   "metadata": {
    "colab": {},
    "colab_type": "code",
    "id": "ul7mcWkoNvxJ"
   },
   "outputs": [],
   "source": [
    "import os \n",
    "import torch.utils.data as data \n",
    "import torch \n",
    "import math\n",
    "import pickle\n",
    "import matplotlib.pyplot as plt \n",
    "# % matplotlib inline"
   ]
  },
  {
   "cell_type": "code",
   "execution_count": 34,
   "metadata": {
    "colab": {},
    "colab_type": "code",
    "id": "gPvXgdlvzat5"
   },
   "outputs": [],
   "source": [
    "class DecoderRNN(nn.Module):\n",
    "    def __init__(self, embed_size, hidden_size, vocab_size, num_layers=1):\n",
    "        super( DecoderRNN , self).__init__()\n",
    "        self.embed_size = embed_size\n",
    "        self.hidden_size = hidden_size \n",
    "        self.vocab_size = vocab_size\n",
    "        self.num_layers = num_layers\n",
    "        self.word_embedding = nn.Embedding( self.vocab_size , self.embed_size )\n",
    "        self.lstm  = nn.LSTM(    input_size  =  self.embed_size , \n",
    "                             hidden_size = self.hidden_size,\n",
    "                             num_layers  = self.num_layers ,\n",
    "                             batch_first = True \n",
    "                             )\n",
    "        self.fc = nn.Linear( self.hidden_size , self.vocab_size  )\n",
    "        \n",
    "\n",
    "    def init_hidden( self, batch_size ):\n",
    "      return ( torch.zeros( self.num_layers , batch_size , self.hidden_size  ).to(device),\n",
    "      torch.zeros( self.num_layers , batch_size , self.hidden_size  ).to(device) )\n",
    "    \n",
    "    def forward(self, features, captions):            \n",
    "      captions = captions[:,:-1]      \n",
    "      self.batch_size = features.shape[0]\n",
    "      self.hidden = self.init_hidden( self.batch_size )\n",
    "      embeds = self.word_embedding( captions )\n",
    "      inputs = torch.cat( ( features.unsqueeze(dim=1) , embeds ) , dim =1  )      \n",
    "      lstm_out , self.hidden = self.lstm(inputs , self.hidden)      \n",
    "      outputs = self.fc( lstm_out )      \n",
    "      return outputs\n",
    "\n",
    "    def Predict(self, inputs, max_len=20):        \n",
    "        final_output = []\n",
    "        batch_size = inputs.shape[0]         \n",
    "        hidden = self.init_hidden(batch_size) \n",
    "    \n",
    "        while True:\n",
    "            lstm_out, hidden = self.lstm(inputs, hidden) \n",
    "            outputs = self.fc(lstm_out)  \n",
    "            outputs = outputs.squeeze(1) \n",
    "            _, max_idx = torch.max(outputs, dim=1) \n",
    "            final_output.append(max_idx.cpu().numpy()[0].item())             \n",
    "            if (max_idx == 1 or len(final_ouput) >=20 ):\n",
    "                break\n",
    "            \n",
    "            inputs = self.word_embedding(max_idx) \n",
    "            inputs = inputs.unsqueeze(1)             \n",
    "        return final_output  "
   ]
  },
  {
   "cell_type": "code",
   "execution_count": 38,
   "metadata": {
    "colab": {},
    "colab_type": "code",
    "id": "3jjOVmc82zl8"
   },
   "outputs": [],
   "source": [
    "embed_size = 256\n",
    "hidden_size = 100\n",
    "num_layers =1 \n",
    "num_epochs = 4\n",
    "print_every = 150\n",
    "save_every = 1 \n",
    "vocab_size = len(data_loader_train.dataset.vocab)\n",
    "total_step = math.ceil( len(data_loader_train.dataset.caption_lengths) / data_loader_train.batch_sampler.batch_size   )\n",
    "\n",
    "\n",
    "decoder = DecoderRNN(  embed_size , hidden_size, vocab_size ,num_layers)\n",
    "criterion = nn.CrossEntropyLoss()\n",
    "lr = 0.001\n",
    "all_params = list(decoder.parameters())  + list( encoder.embed.parameters() )\n",
    "optimizer = torch.optim.Adam( params  = all_params , lr = lr  )\n",
    "\n",
    "\n",
    "\n",
    "# device =  torch.device('cuda' if torch.cuda.is_available() else 'cpu')\n",
    "device =  torch.device('cpu')  # gpu is available, but not enough gpu mem on the laptop\n",
    "model_save_path = cocoapi_loc + 'CVND---Image-Captioning-Project/checkpoint'\n",
    "os.makedirs( model_save_path , exist_ok=True)\n",
    "\n",
    "# Save the params needed to created the model :\n",
    "decoder_input_params = {'embed_size' : embed_size , \n",
    "                'hidden_size' : hidden_size , \n",
    "                'num_layers' : num_layers,\n",
    "                'lr' : lr ,\n",
    "                'vocab_size' : vocab_size\n",
    "                }\n",
    "\n",
    "with open(  os.path.join(model_save_path , 'decoder_input_params_12_20_2019.pickle'), 'wb') as handle:\n",
    "    pickle.dump(decoder_input_params, handle, protocol=pickle.HIGHEST_PROTOCOL)"
   ]
  },
  {
   "cell_type": "code",
   "execution_count": 39,
   "metadata": {
    "colab": {},
    "colab_type": "code",
    "id": "XRP1LVcoBAsv"
   },
   "outputs": [
    {
     "name": "stdout",
     "output_type": "stream",
     "text": [
      "Epochs [1/4] Step [0/2071] Loss [8.8845] \n"
     ]
    },
    {
     "ename": "KeyboardInterrupt",
     "evalue": "",
     "output_type": "error",
     "traceback": [
      "\u001b[0;31m---------------------------------------------------------------------------\u001b[0m",
      "\u001b[0;31mKeyboardInterrupt\u001b[0m                         Traceback (most recent call last)",
      "Input \u001b[0;32mIn [39]\u001b[0m, in \u001b[0;36m<cell line: 2>\u001b[0;34m()\u001b[0m\n\u001b[1;32m     10\u001b[0m encoder\u001b[38;5;241m.\u001b[39mzero_grad()    \n\u001b[1;32m     11\u001b[0m decoder\u001b[38;5;241m.\u001b[39mzero_grad()\n\u001b[0;32m---> 12\u001b[0m features \u001b[38;5;241m=\u001b[39m \u001b[43mencoder\u001b[49m\u001b[43m(\u001b[49m\u001b[43mimages\u001b[49m\u001b[43m)\u001b[49m\n\u001b[1;32m     13\u001b[0m output \u001b[38;5;241m=\u001b[39m decoder( features , captions )    \n\u001b[1;32m     14\u001b[0m loss \u001b[38;5;241m=\u001b[39m criterion( output\u001b[38;5;241m.\u001b[39mview(\u001b[38;5;241m-\u001b[39m\u001b[38;5;241m1\u001b[39m, vocab_size) , captions\u001b[38;5;241m.\u001b[39mview(\u001b[38;5;241m-\u001b[39m\u001b[38;5;241m1\u001b[39m) )\n",
      "File \u001b[0;32m~/miniforge3/envs/c_general39/lib/python3.9/site-packages/torch/nn/modules/module.py:1190\u001b[0m, in \u001b[0;36mModule._call_impl\u001b[0;34m(self, *input, **kwargs)\u001b[0m\n\u001b[1;32m   1186\u001b[0m \u001b[38;5;66;03m# If we don't have any hooks, we want to skip the rest of the logic in\u001b[39;00m\n\u001b[1;32m   1187\u001b[0m \u001b[38;5;66;03m# this function, and just call forward.\u001b[39;00m\n\u001b[1;32m   1188\u001b[0m \u001b[38;5;28;01mif\u001b[39;00m \u001b[38;5;129;01mnot\u001b[39;00m (\u001b[38;5;28mself\u001b[39m\u001b[38;5;241m.\u001b[39m_backward_hooks \u001b[38;5;129;01mor\u001b[39;00m \u001b[38;5;28mself\u001b[39m\u001b[38;5;241m.\u001b[39m_forward_hooks \u001b[38;5;129;01mor\u001b[39;00m \u001b[38;5;28mself\u001b[39m\u001b[38;5;241m.\u001b[39m_forward_pre_hooks \u001b[38;5;129;01mor\u001b[39;00m _global_backward_hooks\n\u001b[1;32m   1189\u001b[0m         \u001b[38;5;129;01mor\u001b[39;00m _global_forward_hooks \u001b[38;5;129;01mor\u001b[39;00m _global_forward_pre_hooks):\n\u001b[0;32m-> 1190\u001b[0m     \u001b[38;5;28;01mreturn\u001b[39;00m \u001b[43mforward_call\u001b[49m\u001b[43m(\u001b[49m\u001b[38;5;241;43m*\u001b[39;49m\u001b[38;5;28;43minput\u001b[39;49m\u001b[43m,\u001b[49m\u001b[43m \u001b[49m\u001b[38;5;241;43m*\u001b[39;49m\u001b[38;5;241;43m*\u001b[39;49m\u001b[43mkwargs\u001b[49m\u001b[43m)\u001b[49m\n\u001b[1;32m   1191\u001b[0m \u001b[38;5;66;03m# Do not call functions when jit is used\u001b[39;00m\n\u001b[1;32m   1192\u001b[0m full_backward_hooks, non_full_backward_hooks \u001b[38;5;241m=\u001b[39m [], []\n",
      "Input \u001b[0;32mIn [26]\u001b[0m, in \u001b[0;36mEncoderCNN.forward\u001b[0;34m(self, images)\u001b[0m\n\u001b[1;32m     16\u001b[0m \u001b[38;5;28;01mdef\u001b[39;00m \u001b[38;5;21mforward\u001b[39m(\u001b[38;5;28mself\u001b[39m, images):\n\u001b[0;32m---> 17\u001b[0m     features \u001b[38;5;241m=\u001b[39m \u001b[38;5;28;43mself\u001b[39;49m\u001b[38;5;241;43m.\u001b[39;49m\u001b[43mresnet\u001b[49m\u001b[43m(\u001b[49m\u001b[43mimages\u001b[49m\u001b[43m)\u001b[49m        \n\u001b[1;32m     18\u001b[0m     features \u001b[38;5;241m=\u001b[39m features\u001b[38;5;241m.\u001b[39mview(features\u001b[38;5;241m.\u001b[39msize(\u001b[38;5;241m0\u001b[39m), \u001b[38;5;241m-\u001b[39m\u001b[38;5;241m1\u001b[39m)        \n\u001b[1;32m     19\u001b[0m     features \u001b[38;5;241m=\u001b[39m \u001b[38;5;28mself\u001b[39m\u001b[38;5;241m.\u001b[39membed(features)        \n",
      "File \u001b[0;32m~/miniforge3/envs/c_general39/lib/python3.9/site-packages/torch/nn/modules/module.py:1190\u001b[0m, in \u001b[0;36mModule._call_impl\u001b[0;34m(self, *input, **kwargs)\u001b[0m\n\u001b[1;32m   1186\u001b[0m \u001b[38;5;66;03m# If we don't have any hooks, we want to skip the rest of the logic in\u001b[39;00m\n\u001b[1;32m   1187\u001b[0m \u001b[38;5;66;03m# this function, and just call forward.\u001b[39;00m\n\u001b[1;32m   1188\u001b[0m \u001b[38;5;28;01mif\u001b[39;00m \u001b[38;5;129;01mnot\u001b[39;00m (\u001b[38;5;28mself\u001b[39m\u001b[38;5;241m.\u001b[39m_backward_hooks \u001b[38;5;129;01mor\u001b[39;00m \u001b[38;5;28mself\u001b[39m\u001b[38;5;241m.\u001b[39m_forward_hooks \u001b[38;5;129;01mor\u001b[39;00m \u001b[38;5;28mself\u001b[39m\u001b[38;5;241m.\u001b[39m_forward_pre_hooks \u001b[38;5;129;01mor\u001b[39;00m _global_backward_hooks\n\u001b[1;32m   1189\u001b[0m         \u001b[38;5;129;01mor\u001b[39;00m _global_forward_hooks \u001b[38;5;129;01mor\u001b[39;00m _global_forward_pre_hooks):\n\u001b[0;32m-> 1190\u001b[0m     \u001b[38;5;28;01mreturn\u001b[39;00m \u001b[43mforward_call\u001b[49m\u001b[43m(\u001b[49m\u001b[38;5;241;43m*\u001b[39;49m\u001b[38;5;28;43minput\u001b[39;49m\u001b[43m,\u001b[49m\u001b[43m \u001b[49m\u001b[38;5;241;43m*\u001b[39;49m\u001b[38;5;241;43m*\u001b[39;49m\u001b[43mkwargs\u001b[49m\u001b[43m)\u001b[49m\n\u001b[1;32m   1191\u001b[0m \u001b[38;5;66;03m# Do not call functions when jit is used\u001b[39;00m\n\u001b[1;32m   1192\u001b[0m full_backward_hooks, non_full_backward_hooks \u001b[38;5;241m=\u001b[39m [], []\n",
      "File \u001b[0;32m~/miniforge3/envs/c_general39/lib/python3.9/site-packages/torch/nn/modules/container.py:204\u001b[0m, in \u001b[0;36mSequential.forward\u001b[0;34m(self, input)\u001b[0m\n\u001b[1;32m    202\u001b[0m \u001b[38;5;28;01mdef\u001b[39;00m \u001b[38;5;21mforward\u001b[39m(\u001b[38;5;28mself\u001b[39m, \u001b[38;5;28minput\u001b[39m):\n\u001b[1;32m    203\u001b[0m     \u001b[38;5;28;01mfor\u001b[39;00m module \u001b[38;5;129;01min\u001b[39;00m \u001b[38;5;28mself\u001b[39m:\n\u001b[0;32m--> 204\u001b[0m         \u001b[38;5;28minput\u001b[39m \u001b[38;5;241m=\u001b[39m \u001b[43mmodule\u001b[49m\u001b[43m(\u001b[49m\u001b[38;5;28;43minput\u001b[39;49m\u001b[43m)\u001b[49m\n\u001b[1;32m    205\u001b[0m     \u001b[38;5;28;01mreturn\u001b[39;00m \u001b[38;5;28minput\u001b[39m\n",
      "File \u001b[0;32m~/miniforge3/envs/c_general39/lib/python3.9/site-packages/torch/nn/modules/module.py:1190\u001b[0m, in \u001b[0;36mModule._call_impl\u001b[0;34m(self, *input, **kwargs)\u001b[0m\n\u001b[1;32m   1186\u001b[0m \u001b[38;5;66;03m# If we don't have any hooks, we want to skip the rest of the logic in\u001b[39;00m\n\u001b[1;32m   1187\u001b[0m \u001b[38;5;66;03m# this function, and just call forward.\u001b[39;00m\n\u001b[1;32m   1188\u001b[0m \u001b[38;5;28;01mif\u001b[39;00m \u001b[38;5;129;01mnot\u001b[39;00m (\u001b[38;5;28mself\u001b[39m\u001b[38;5;241m.\u001b[39m_backward_hooks \u001b[38;5;129;01mor\u001b[39;00m \u001b[38;5;28mself\u001b[39m\u001b[38;5;241m.\u001b[39m_forward_hooks \u001b[38;5;129;01mor\u001b[39;00m \u001b[38;5;28mself\u001b[39m\u001b[38;5;241m.\u001b[39m_forward_pre_hooks \u001b[38;5;129;01mor\u001b[39;00m _global_backward_hooks\n\u001b[1;32m   1189\u001b[0m         \u001b[38;5;129;01mor\u001b[39;00m _global_forward_hooks \u001b[38;5;129;01mor\u001b[39;00m _global_forward_pre_hooks):\n\u001b[0;32m-> 1190\u001b[0m     \u001b[38;5;28;01mreturn\u001b[39;00m \u001b[43mforward_call\u001b[49m\u001b[43m(\u001b[49m\u001b[38;5;241;43m*\u001b[39;49m\u001b[38;5;28;43minput\u001b[39;49m\u001b[43m,\u001b[49m\u001b[43m \u001b[49m\u001b[38;5;241;43m*\u001b[39;49m\u001b[38;5;241;43m*\u001b[39;49m\u001b[43mkwargs\u001b[49m\u001b[43m)\u001b[49m\n\u001b[1;32m   1191\u001b[0m \u001b[38;5;66;03m# Do not call functions when jit is used\u001b[39;00m\n\u001b[1;32m   1192\u001b[0m full_backward_hooks, non_full_backward_hooks \u001b[38;5;241m=\u001b[39m [], []\n",
      "File \u001b[0;32m~/miniforge3/envs/c_general39/lib/python3.9/site-packages/torch/nn/modules/container.py:204\u001b[0m, in \u001b[0;36mSequential.forward\u001b[0;34m(self, input)\u001b[0m\n\u001b[1;32m    202\u001b[0m \u001b[38;5;28;01mdef\u001b[39;00m \u001b[38;5;21mforward\u001b[39m(\u001b[38;5;28mself\u001b[39m, \u001b[38;5;28minput\u001b[39m):\n\u001b[1;32m    203\u001b[0m     \u001b[38;5;28;01mfor\u001b[39;00m module \u001b[38;5;129;01min\u001b[39;00m \u001b[38;5;28mself\u001b[39m:\n\u001b[0;32m--> 204\u001b[0m         \u001b[38;5;28minput\u001b[39m \u001b[38;5;241m=\u001b[39m \u001b[43mmodule\u001b[49m\u001b[43m(\u001b[49m\u001b[38;5;28;43minput\u001b[39;49m\u001b[43m)\u001b[49m\n\u001b[1;32m    205\u001b[0m     \u001b[38;5;28;01mreturn\u001b[39;00m \u001b[38;5;28minput\u001b[39m\n",
      "File \u001b[0;32m~/miniforge3/envs/c_general39/lib/python3.9/site-packages/torch/nn/modules/module.py:1190\u001b[0m, in \u001b[0;36mModule._call_impl\u001b[0;34m(self, *input, **kwargs)\u001b[0m\n\u001b[1;32m   1186\u001b[0m \u001b[38;5;66;03m# If we don't have any hooks, we want to skip the rest of the logic in\u001b[39;00m\n\u001b[1;32m   1187\u001b[0m \u001b[38;5;66;03m# this function, and just call forward.\u001b[39;00m\n\u001b[1;32m   1188\u001b[0m \u001b[38;5;28;01mif\u001b[39;00m \u001b[38;5;129;01mnot\u001b[39;00m (\u001b[38;5;28mself\u001b[39m\u001b[38;5;241m.\u001b[39m_backward_hooks \u001b[38;5;129;01mor\u001b[39;00m \u001b[38;5;28mself\u001b[39m\u001b[38;5;241m.\u001b[39m_forward_hooks \u001b[38;5;129;01mor\u001b[39;00m \u001b[38;5;28mself\u001b[39m\u001b[38;5;241m.\u001b[39m_forward_pre_hooks \u001b[38;5;129;01mor\u001b[39;00m _global_backward_hooks\n\u001b[1;32m   1189\u001b[0m         \u001b[38;5;129;01mor\u001b[39;00m _global_forward_hooks \u001b[38;5;129;01mor\u001b[39;00m _global_forward_pre_hooks):\n\u001b[0;32m-> 1190\u001b[0m     \u001b[38;5;28;01mreturn\u001b[39;00m \u001b[43mforward_call\u001b[49m\u001b[43m(\u001b[49m\u001b[38;5;241;43m*\u001b[39;49m\u001b[38;5;28;43minput\u001b[39;49m\u001b[43m,\u001b[49m\u001b[43m \u001b[49m\u001b[38;5;241;43m*\u001b[39;49m\u001b[38;5;241;43m*\u001b[39;49m\u001b[43mkwargs\u001b[49m\u001b[43m)\u001b[49m\n\u001b[1;32m   1191\u001b[0m \u001b[38;5;66;03m# Do not call functions when jit is used\u001b[39;00m\n\u001b[1;32m   1192\u001b[0m full_backward_hooks, non_full_backward_hooks \u001b[38;5;241m=\u001b[39m [], []\n",
      "File \u001b[0;32m~/miniforge3/envs/c_general39/lib/python3.9/site-packages/torchvision/models/resnet.py:154\u001b[0m, in \u001b[0;36mBottleneck.forward\u001b[0;34m(self, x)\u001b[0m\n\u001b[1;32m    151\u001b[0m out \u001b[38;5;241m=\u001b[39m \u001b[38;5;28mself\u001b[39m\u001b[38;5;241m.\u001b[39mbn2(out)\n\u001b[1;32m    152\u001b[0m out \u001b[38;5;241m=\u001b[39m \u001b[38;5;28mself\u001b[39m\u001b[38;5;241m.\u001b[39mrelu(out)\n\u001b[0;32m--> 154\u001b[0m out \u001b[38;5;241m=\u001b[39m \u001b[38;5;28;43mself\u001b[39;49m\u001b[38;5;241;43m.\u001b[39;49m\u001b[43mconv3\u001b[49m\u001b[43m(\u001b[49m\u001b[43mout\u001b[49m\u001b[43m)\u001b[49m\n\u001b[1;32m    155\u001b[0m out \u001b[38;5;241m=\u001b[39m \u001b[38;5;28mself\u001b[39m\u001b[38;5;241m.\u001b[39mbn3(out)\n\u001b[1;32m    157\u001b[0m \u001b[38;5;28;01mif\u001b[39;00m \u001b[38;5;28mself\u001b[39m\u001b[38;5;241m.\u001b[39mdownsample \u001b[38;5;129;01mis\u001b[39;00m \u001b[38;5;129;01mnot\u001b[39;00m \u001b[38;5;28;01mNone\u001b[39;00m:\n",
      "File \u001b[0;32m~/miniforge3/envs/c_general39/lib/python3.9/site-packages/torch/nn/modules/module.py:1190\u001b[0m, in \u001b[0;36mModule._call_impl\u001b[0;34m(self, *input, **kwargs)\u001b[0m\n\u001b[1;32m   1186\u001b[0m \u001b[38;5;66;03m# If we don't have any hooks, we want to skip the rest of the logic in\u001b[39;00m\n\u001b[1;32m   1187\u001b[0m \u001b[38;5;66;03m# this function, and just call forward.\u001b[39;00m\n\u001b[1;32m   1188\u001b[0m \u001b[38;5;28;01mif\u001b[39;00m \u001b[38;5;129;01mnot\u001b[39;00m (\u001b[38;5;28mself\u001b[39m\u001b[38;5;241m.\u001b[39m_backward_hooks \u001b[38;5;129;01mor\u001b[39;00m \u001b[38;5;28mself\u001b[39m\u001b[38;5;241m.\u001b[39m_forward_hooks \u001b[38;5;129;01mor\u001b[39;00m \u001b[38;5;28mself\u001b[39m\u001b[38;5;241m.\u001b[39m_forward_pre_hooks \u001b[38;5;129;01mor\u001b[39;00m _global_backward_hooks\n\u001b[1;32m   1189\u001b[0m         \u001b[38;5;129;01mor\u001b[39;00m _global_forward_hooks \u001b[38;5;129;01mor\u001b[39;00m _global_forward_pre_hooks):\n\u001b[0;32m-> 1190\u001b[0m     \u001b[38;5;28;01mreturn\u001b[39;00m \u001b[43mforward_call\u001b[49m\u001b[43m(\u001b[49m\u001b[38;5;241;43m*\u001b[39;49m\u001b[38;5;28;43minput\u001b[39;49m\u001b[43m,\u001b[49m\u001b[43m \u001b[49m\u001b[38;5;241;43m*\u001b[39;49m\u001b[38;5;241;43m*\u001b[39;49m\u001b[43mkwargs\u001b[49m\u001b[43m)\u001b[49m\n\u001b[1;32m   1191\u001b[0m \u001b[38;5;66;03m# Do not call functions when jit is used\u001b[39;00m\n\u001b[1;32m   1192\u001b[0m full_backward_hooks, non_full_backward_hooks \u001b[38;5;241m=\u001b[39m [], []\n",
      "File \u001b[0;32m~/miniforge3/envs/c_general39/lib/python3.9/site-packages/torch/nn/modules/conv.py:463\u001b[0m, in \u001b[0;36mConv2d.forward\u001b[0;34m(self, input)\u001b[0m\n\u001b[1;32m    462\u001b[0m \u001b[38;5;28;01mdef\u001b[39;00m \u001b[38;5;21mforward\u001b[39m(\u001b[38;5;28mself\u001b[39m, \u001b[38;5;28minput\u001b[39m: Tensor) \u001b[38;5;241m-\u001b[39m\u001b[38;5;241m>\u001b[39m Tensor:\n\u001b[0;32m--> 463\u001b[0m     \u001b[38;5;28;01mreturn\u001b[39;00m \u001b[38;5;28;43mself\u001b[39;49m\u001b[38;5;241;43m.\u001b[39;49m\u001b[43m_conv_forward\u001b[49m\u001b[43m(\u001b[49m\u001b[38;5;28;43minput\u001b[39;49m\u001b[43m,\u001b[49m\u001b[43m \u001b[49m\u001b[38;5;28;43mself\u001b[39;49m\u001b[38;5;241;43m.\u001b[39;49m\u001b[43mweight\u001b[49m\u001b[43m,\u001b[49m\u001b[43m \u001b[49m\u001b[38;5;28;43mself\u001b[39;49m\u001b[38;5;241;43m.\u001b[39;49m\u001b[43mbias\u001b[49m\u001b[43m)\u001b[49m\n",
      "File \u001b[0;32m~/miniforge3/envs/c_general39/lib/python3.9/site-packages/torch/nn/modules/conv.py:459\u001b[0m, in \u001b[0;36mConv2d._conv_forward\u001b[0;34m(self, input, weight, bias)\u001b[0m\n\u001b[1;32m    455\u001b[0m \u001b[38;5;28;01mif\u001b[39;00m \u001b[38;5;28mself\u001b[39m\u001b[38;5;241m.\u001b[39mpadding_mode \u001b[38;5;241m!=\u001b[39m \u001b[38;5;124m'\u001b[39m\u001b[38;5;124mzeros\u001b[39m\u001b[38;5;124m'\u001b[39m:\n\u001b[1;32m    456\u001b[0m     \u001b[38;5;28;01mreturn\u001b[39;00m F\u001b[38;5;241m.\u001b[39mconv2d(F\u001b[38;5;241m.\u001b[39mpad(\u001b[38;5;28minput\u001b[39m, \u001b[38;5;28mself\u001b[39m\u001b[38;5;241m.\u001b[39m_reversed_padding_repeated_twice, mode\u001b[38;5;241m=\u001b[39m\u001b[38;5;28mself\u001b[39m\u001b[38;5;241m.\u001b[39mpadding_mode),\n\u001b[1;32m    457\u001b[0m                     weight, bias, \u001b[38;5;28mself\u001b[39m\u001b[38;5;241m.\u001b[39mstride,\n\u001b[1;32m    458\u001b[0m                     _pair(\u001b[38;5;241m0\u001b[39m), \u001b[38;5;28mself\u001b[39m\u001b[38;5;241m.\u001b[39mdilation, \u001b[38;5;28mself\u001b[39m\u001b[38;5;241m.\u001b[39mgroups)\n\u001b[0;32m--> 459\u001b[0m \u001b[38;5;28;01mreturn\u001b[39;00m \u001b[43mF\u001b[49m\u001b[38;5;241;43m.\u001b[39;49m\u001b[43mconv2d\u001b[49m\u001b[43m(\u001b[49m\u001b[38;5;28;43minput\u001b[39;49m\u001b[43m,\u001b[49m\u001b[43m \u001b[49m\u001b[43mweight\u001b[49m\u001b[43m,\u001b[49m\u001b[43m \u001b[49m\u001b[43mbias\u001b[49m\u001b[43m,\u001b[49m\u001b[43m \u001b[49m\u001b[38;5;28;43mself\u001b[39;49m\u001b[38;5;241;43m.\u001b[39;49m\u001b[43mstride\u001b[49m\u001b[43m,\u001b[49m\n\u001b[1;32m    460\u001b[0m \u001b[43m                \u001b[49m\u001b[38;5;28;43mself\u001b[39;49m\u001b[38;5;241;43m.\u001b[39;49m\u001b[43mpadding\u001b[49m\u001b[43m,\u001b[49m\u001b[43m \u001b[49m\u001b[38;5;28;43mself\u001b[39;49m\u001b[38;5;241;43m.\u001b[39;49m\u001b[43mdilation\u001b[49m\u001b[43m,\u001b[49m\u001b[43m \u001b[49m\u001b[38;5;28;43mself\u001b[39;49m\u001b[38;5;241;43m.\u001b[39;49m\u001b[43mgroups\u001b[49m\u001b[43m)\u001b[49m\n",
      "\u001b[0;31mKeyboardInterrupt\u001b[0m: "
     ]
    }
   ],
   "source": [
    "import sys \n",
    "for e in range(num_epochs):\n",
    "  for step in range(total_step):\n",
    "    indices = data_loader_train.dataset.get_train_indices()\n",
    "    new_sampler = data.sampler.SubsetRandomSampler( indices )\n",
    "    data_loader_train.batch_sampler.sampler = new_sampler    \n",
    "    images,captions = next(iter(data_loader_train))    \n",
    "    images , captions = images.to(device) , captions.to(device)\n",
    "    encoder , decoder = encoder.to(device) , decoder.to(device)\n",
    "    encoder.zero_grad()    \n",
    "    decoder.zero_grad()\n",
    "    features = encoder(images)\n",
    "    output = decoder( features , captions )    \n",
    "    loss = criterion( output.view(-1, vocab_size) , captions.view(-1) )\n",
    "    loss.backward()\n",
    "    optimizer.step()\n",
    "    stat_vals = 'Epochs [%d/%d] Step [%d/%d] Loss [%.4f] ' %( e+1,num_epochs,step,total_step,loss.item() )\n",
    "    if step % print_every == 0 :\n",
    "      print(stat_vals)\n",
    "      sys.stdout.flush()\n",
    "    if e % save_every == 0:\n",
    "      torch.save( encoder.state_dict() ,  os.path.join( model_save_path , 'encoderdata_{}.pkl'.format(e+1) ) )\n",
    "      torch.save( decoder.state_dict() ,  os.path.join( model_save_path , 'decoderdata_{}.pkl'.format(e+1) ) )\n"
   ]
  },
  {
   "cell_type": "markdown",
   "metadata": {
    "colab_type": "text",
    "id": "6q4CCgWF5xAz"
   },
   "source": [
    "Load the saved checkpoint "
   ]
  },
  {
   "cell_type": "code",
   "execution_count": null,
   "metadata": {
    "colab": {
     "base_uri": "https://localhost:8080/",
     "height": 34
    },
    "colab_type": "code",
    "id": "PmfVe7pcCiYv",
    "outputId": "a88eb52d-2047-457a-a36f-6aaf53a46dba"
   },
   "outputs": [],
   "source": [
    "model_save_path = '/content/drive/My Drive/Colab Notebooks/ComputerVision/RNN_LSTM/image_caption/CVND---Image-Captioning-Project/checkpoint'\n",
    "os.makedirs( model_save_path , exist_ok=True)\n",
    "\n",
    "device =  torch.device('cuda' if torch.cuda.is_available() else 'cpu')\n",
    "\n",
    "with open(  os.path.join(model_save_path , 'decoder_input_params_12_19_2019.pickle'), 'rb') as handle:\n",
    "    decoder_input_params = pickle.load(handle)\n",
    "\n",
    "embed_size = decoder_input_params['embed_size']\n",
    "hidden_size= decoder_input_params['hidden_size']\n",
    "vocab_size = decoder_input_params['vocab_size']\n",
    "num_layers = decoder_input_params['num_layers']\n",
    "\n",
    "encoder = EncoderCNN( embed_size )\n",
    "encoder.load_state_dict(   torch.load(  os.path.join( model_save_path , 'encoderdata_{}.pkl'.format(1) )   ) )\n",
    "\n",
    "decoder = DecoderRNN( embed_size , hidden_size , vocab_size , num_layers )\n",
    "decoder.load_state_dict( torch.load(   os.path.join( model_save_path , 'decoderdata_{}.pkl'.format(1) )   ) )\n",
    "\n"
   ]
  },
  {
   "cell_type": "markdown",
   "metadata": {
    "colab_type": "text",
    "id": "QeUg7D9D6Dnm"
   },
   "source": [
    "Create Dataloader for test data :"
   ]
  },
  {
   "cell_type": "code",
   "execution_count": null,
   "metadata": {
    "colab": {
     "base_uri": "https://localhost:8080/",
     "height": 34
    },
    "colab_type": "code",
    "id": "s6BkposiQXEI",
    "outputId": "9b3d1f74-214f-497f-c3b9-fa40290752a2"
   },
   "outputs": [],
   "source": [
    "from torchvision import transforms\n",
    "\n",
    "# Define a transform to pre-process the training images.\n",
    "transform_test = transforms.Compose([ \n",
    "    transforms.Resize(256),                          # smaller edge of image resized to 256\n",
    "    transforms.RandomCrop(224),                      # get 224x224 crop from random location\n",
    "    transforms.RandomHorizontalFlip(),               # horizontally flip image with probability=0.5\n",
    "    transforms.ToTensor(),                           # convert the PIL Image to a tensor\n",
    "    transforms.Normalize((0.485, 0.456, 0.406),      # normalize image for pre-trained model\n",
    "                         (0.229, 0.224, 0.225))])\n",
    "\n",
    "# Obtain the data loader.\n",
    "data_loader_test = get_loader(transform=transform_test,\n",
    "                         mode='test',                         \n",
    "                         cocoapi_loc = cocoapi_loc)\n",
    "\n",
    "data_iter = iter(data_loader_test)"
   ]
  },
  {
   "cell_type": "code",
   "execution_count": null,
   "metadata": {
    "colab": {},
    "colab_type": "code",
    "id": "RXQ2rzJYz4J6"
   },
   "outputs": [],
   "source": [
    "def get_sentences( original_img, all_predictions ):\n",
    "  sentence = ' '\n",
    "  plt.imshow(original_img.squeeze())\n",
    "  return sentence.join([data_loader_test.dataset.vocab.idx2word[idx] for idx in all_predictions[1:-1] ]  )"
   ]
  },
  {
   "cell_type": "code",
   "execution_count": null,
   "metadata": {
    "colab": {
     "base_uri": "https://localhost:8080/",
     "height": 286
    },
    "colab_type": "code",
    "id": "jC32FE_T_K0p",
    "outputId": "249edfde-2429-473b-c68a-62e5675e483e"
   },
   "outputs": [],
   "source": [
    "encoder.to(device) \n",
    "decoder.to(device)\n",
    "encoder.eval()\n",
    "decoder.eval()\n",
    "original_img , processed_img  = next( data_iter )\n",
    "\n",
    "features  = encoder(processed_img.to(device)   ).unsqueeze(1)\n",
    "final_output = decoder.predict( features  , max_len=20)\n",
    "get_sentences(original_img, final_output)"
   ]
  },
  {
   "cell_type": "code",
   "execution_count": null,
   "metadata": {
    "colab": {},
    "colab_type": "code",
    "id": "zpOOXoDNwDSC"
   },
   "outputs": [],
   "source": []
  },
  {
   "cell_type": "code",
   "execution_count": null,
   "metadata": {
    "colab": {},
    "colab_type": "code",
    "id": "eW2LF2Qew6rf"
   },
   "outputs": [],
   "source": []
  }
 ],
 "metadata": {
  "accelerator": "GPU",
  "colab": {
   "collapsed_sections": [
    "qshOumBc2ZHY",
    "zFib3Yuq2D4i",
    "Z6yai64F2y6T",
    "uyxU5wWTPwtw",
    "cym1ywj7eX6g"
   ],
   "include_colab_link": true,
   "name": "Image_Captioning.ipynb",
   "provenance": [],
   "toc_visible": true
  },
  "kernelspec": {
   "display_name": "Python 3 (ipykernel)",
   "language": "python",
   "name": "python3"
  },
  "language_info": {
   "codemirror_mode": {
    "name": "ipython",
    "version": 3
   },
   "file_extension": ".py",
   "mimetype": "text/x-python",
   "name": "python",
   "nbconvert_exporter": "python",
   "pygments_lexer": "ipython3",
   "version": "3.9.13"
  }
 },
 "nbformat": 4,
 "nbformat_minor": 1
}
